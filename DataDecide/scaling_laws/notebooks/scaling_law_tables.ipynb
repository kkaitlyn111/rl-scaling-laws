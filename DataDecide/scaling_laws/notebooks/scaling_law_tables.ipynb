version https://git-lfs.github.com/spec/v1
oid sha256:7dbf741caa927dc83022e67edec9bd805219d4267434067eae0b5ba0c224bb01
size 110261
