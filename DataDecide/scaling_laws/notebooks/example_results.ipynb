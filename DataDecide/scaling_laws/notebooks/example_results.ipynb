version https://git-lfs.github.com/spec/v1
oid sha256:af4449ff0fb0188e30ee1b88a96a4189b9c257e2932a765e3879ffb625aae5f3
size 400006
